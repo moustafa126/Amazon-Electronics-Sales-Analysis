{
  "nbformat": 4,
  "nbformat_minor": 0,
  "metadata": {
    "colab": {
      "provenance": []
    },
    "kernelspec": {
      "name": "python3",
      "display_name": "Python 3"
    },
    "language_info": {
      "name": "python"
    }
  },
  "cells": [
    {
      "cell_type": "markdown",
      "source": [
        "# Product Analysis\n",
        "\n",
        "The dataset gives us electronics sales data at Amazon.\n",
        "\n",
        "It contains user ratings for various electronics items sold, along with category of each item and time of sell.\n",
        "\n",
        "The dataset is available at https://www.kaggle.com/datasets/edusanketdk/electronics"
      ],
      "metadata": {
        "id": "n5jSUdk5MIbK"
      }
    },
    {
      "cell_type": "code",
      "source": [
        "from google.colab import drive\n",
        "drive.mount('/content/drive/')"
      ],
      "metadata": {
        "colab": {
          "base_uri": "https://localhost:8080/"
        },
        "id": "ZVNmYpT1OP29",
        "outputId": "8020094c-7d61-4153-db22-5f8df56b7c50"
      },
      "execution_count": null,
      "outputs": [
        {
          "output_type": "stream",
          "name": "stdout",
          "text": [
            "Drive already mounted at /content/drive/; to attempt to forcibly remount, call drive.mount(\"/content/drive/\", force_remount=True).\n"
          ]
        }
      ]
    },
    {
      "cell_type": "code",
      "source": [
        "cd \"/content/drive/MyDrive\""
      ],
      "metadata": {
        "colab": {
          "base_uri": "https://localhost:8080/"
        },
        "id": "vKMFXPgSOic_",
        "outputId": "d02d2495-fcc2-4f60-b0c9-0e9e692d07e8"
      },
      "execution_count": null,
      "outputs": [
        {
          "output_type": "stream",
          "name": "stdout",
          "text": [
            "/content/drive/MyDrive\n"
          ]
        }
      ]
    },
    {
      "cell_type": "code",
      "execution_count": null,
      "metadata": {
        "colab": {
          "base_uri": "https://localhost:8080/",
          "height": 206
        },
        "id": "LZ0q7U9ML6d7",
        "outputId": "8c357161-7b68-4868-b796-e8580d6bd915"
      },
      "outputs": [
        {
          "output_type": "execute_result",
          "data": {
            "text/plain": [
              "   item_id  user_id  rating   timestamp model_attr                category  \\\n",
              "0        0        0     5.0  1999-06-13     Female  Portable Audio & Video   \n",
              "1        0        1     5.0  1999-06-14     Female  Portable Audio & Video   \n",
              "2        0        2     3.0  1999-06-17     Female  Portable Audio & Video   \n",
              "3        0        3     1.0  1999-07-01     Female  Portable Audio & Video   \n",
              "4        0        4     2.0  1999-07-06     Female  Portable Audio & Video   \n",
              "\n",
              "  brand  year user_attr  split  \n",
              "0   NaN  1999       NaN      0  \n",
              "1   NaN  1999       NaN      0  \n",
              "2   NaN  1999       NaN      0  \n",
              "3   NaN  1999       NaN      0  \n",
              "4   NaN  1999       NaN      0  "
            ],
            "text/html": [
              "\n",
              "  <div id=\"df-1e3f9c51-934f-4da3-9c6b-907333ea4073\">\n",
              "    <div class=\"colab-df-container\">\n",
              "      <div>\n",
              "<style scoped>\n",
              "    .dataframe tbody tr th:only-of-type {\n",
              "        vertical-align: middle;\n",
              "    }\n",
              "\n",
              "    .dataframe tbody tr th {\n",
              "        vertical-align: top;\n",
              "    }\n",
              "\n",
              "    .dataframe thead th {\n",
              "        text-align: right;\n",
              "    }\n",
              "</style>\n",
              "<table border=\"1\" class=\"dataframe\">\n",
              "  <thead>\n",
              "    <tr style=\"text-align: right;\">\n",
              "      <th></th>\n",
              "      <th>item_id</th>\n",
              "      <th>user_id</th>\n",
              "      <th>rating</th>\n",
              "      <th>timestamp</th>\n",
              "      <th>model_attr</th>\n",
              "      <th>category</th>\n",
              "      <th>brand</th>\n",
              "      <th>year</th>\n",
              "      <th>user_attr</th>\n",
              "      <th>split</th>\n",
              "    </tr>\n",
              "  </thead>\n",
              "  <tbody>\n",
              "    <tr>\n",
              "      <th>0</th>\n",
              "      <td>0</td>\n",
              "      <td>0</td>\n",
              "      <td>5.0</td>\n",
              "      <td>1999-06-13</td>\n",
              "      <td>Female</td>\n",
              "      <td>Portable Audio &amp; Video</td>\n",
              "      <td>NaN</td>\n",
              "      <td>1999</td>\n",
              "      <td>NaN</td>\n",
              "      <td>0</td>\n",
              "    </tr>\n",
              "    <tr>\n",
              "      <th>1</th>\n",
              "      <td>0</td>\n",
              "      <td>1</td>\n",
              "      <td>5.0</td>\n",
              "      <td>1999-06-14</td>\n",
              "      <td>Female</td>\n",
              "      <td>Portable Audio &amp; Video</td>\n",
              "      <td>NaN</td>\n",
              "      <td>1999</td>\n",
              "      <td>NaN</td>\n",
              "      <td>0</td>\n",
              "    </tr>\n",
              "    <tr>\n",
              "      <th>2</th>\n",
              "      <td>0</td>\n",
              "      <td>2</td>\n",
              "      <td>3.0</td>\n",
              "      <td>1999-06-17</td>\n",
              "      <td>Female</td>\n",
              "      <td>Portable Audio &amp; Video</td>\n",
              "      <td>NaN</td>\n",
              "      <td>1999</td>\n",
              "      <td>NaN</td>\n",
              "      <td>0</td>\n",
              "    </tr>\n",
              "    <tr>\n",
              "      <th>3</th>\n",
              "      <td>0</td>\n",
              "      <td>3</td>\n",
              "      <td>1.0</td>\n",
              "      <td>1999-07-01</td>\n",
              "      <td>Female</td>\n",
              "      <td>Portable Audio &amp; Video</td>\n",
              "      <td>NaN</td>\n",
              "      <td>1999</td>\n",
              "      <td>NaN</td>\n",
              "      <td>0</td>\n",
              "    </tr>\n",
              "    <tr>\n",
              "      <th>4</th>\n",
              "      <td>0</td>\n",
              "      <td>4</td>\n",
              "      <td>2.0</td>\n",
              "      <td>1999-07-06</td>\n",
              "      <td>Female</td>\n",
              "      <td>Portable Audio &amp; Video</td>\n",
              "      <td>NaN</td>\n",
              "      <td>1999</td>\n",
              "      <td>NaN</td>\n",
              "      <td>0</td>\n",
              "    </tr>\n",
              "  </tbody>\n",
              "</table>\n",
              "</div>\n",
              "      <button class=\"colab-df-convert\" onclick=\"convertToInteractive('df-1e3f9c51-934f-4da3-9c6b-907333ea4073')\"\n",
              "              title=\"Convert this dataframe to an interactive table.\"\n",
              "              style=\"display:none;\">\n",
              "        \n",
              "  <svg xmlns=\"http://www.w3.org/2000/svg\" height=\"24px\"viewBox=\"0 0 24 24\"\n",
              "       width=\"24px\">\n",
              "    <path d=\"M0 0h24v24H0V0z\" fill=\"none\"/>\n",
              "    <path d=\"M18.56 5.44l.94 2.06.94-2.06 2.06-.94-2.06-.94-.94-2.06-.94 2.06-2.06.94zm-11 1L8.5 8.5l.94-2.06 2.06-.94-2.06-.94L8.5 2.5l-.94 2.06-2.06.94zm10 10l.94 2.06.94-2.06 2.06-.94-2.06-.94-.94-2.06-.94 2.06-2.06.94z\"/><path d=\"M17.41 7.96l-1.37-1.37c-.4-.4-.92-.59-1.43-.59-.52 0-1.04.2-1.43.59L10.3 9.45l-7.72 7.72c-.78.78-.78 2.05 0 2.83L4 21.41c.39.39.9.59 1.41.59.51 0 1.02-.2 1.41-.59l7.78-7.78 2.81-2.81c.8-.78.8-2.07 0-2.86zM5.41 20L4 18.59l7.72-7.72 1.47 1.35L5.41 20z\"/>\n",
              "  </svg>\n",
              "      </button>\n",
              "      \n",
              "  <style>\n",
              "    .colab-df-container {\n",
              "      display:flex;\n",
              "      flex-wrap:wrap;\n",
              "      gap: 12px;\n",
              "    }\n",
              "\n",
              "    .colab-df-convert {\n",
              "      background-color: #E8F0FE;\n",
              "      border: none;\n",
              "      border-radius: 50%;\n",
              "      cursor: pointer;\n",
              "      display: none;\n",
              "      fill: #1967D2;\n",
              "      height: 32px;\n",
              "      padding: 0 0 0 0;\n",
              "      width: 32px;\n",
              "    }\n",
              "\n",
              "    .colab-df-convert:hover {\n",
              "      background-color: #E2EBFA;\n",
              "      box-shadow: 0px 1px 2px rgba(60, 64, 67, 0.3), 0px 1px 3px 1px rgba(60, 64, 67, 0.15);\n",
              "      fill: #174EA6;\n",
              "    }\n",
              "\n",
              "    [theme=dark] .colab-df-convert {\n",
              "      background-color: #3B4455;\n",
              "      fill: #D2E3FC;\n",
              "    }\n",
              "\n",
              "    [theme=dark] .colab-df-convert:hover {\n",
              "      background-color: #434B5C;\n",
              "      box-shadow: 0px 1px 3px 1px rgba(0, 0, 0, 0.15);\n",
              "      filter: drop-shadow(0px 1px 2px rgba(0, 0, 0, 0.3));\n",
              "      fill: #FFFFFF;\n",
              "    }\n",
              "  </style>\n",
              "\n",
              "      <script>\n",
              "        const buttonEl =\n",
              "          document.querySelector('#df-1e3f9c51-934f-4da3-9c6b-907333ea4073 button.colab-df-convert');\n",
              "        buttonEl.style.display =\n",
              "          google.colab.kernel.accessAllowed ? 'block' : 'none';\n",
              "\n",
              "        async function convertToInteractive(key) {\n",
              "          const element = document.querySelector('#df-1e3f9c51-934f-4da3-9c6b-907333ea4073');\n",
              "          const dataTable =\n",
              "            await google.colab.kernel.invokeFunction('convertToInteractive',\n",
              "                                                     [key], {});\n",
              "          if (!dataTable) return;\n",
              "\n",
              "          const docLinkHtml = 'Like what you see? Visit the ' +\n",
              "            '<a target=\"_blank\" href=https://colab.research.google.com/notebooks/data_table.ipynb>data table notebook</a>'\n",
              "            + ' to learn more about interactive tables.';\n",
              "          element.innerHTML = '';\n",
              "          dataTable['output_type'] = 'display_data';\n",
              "          await google.colab.output.renderOutput(dataTable, element);\n",
              "          const docLink = document.createElement('div');\n",
              "          docLink.innerHTML = docLinkHtml;\n",
              "          element.appendChild(docLink);\n",
              "        }\n",
              "      </script>\n",
              "    </div>\n",
              "  </div>\n",
              "  "
            ]
          },
          "metadata": {},
          "execution_count": 3
        }
      ],
      "source": [
        "# Importing the libraries\n",
        "import pandas as pd\n",
        "import numpy as np\n",
        "import matplotlib.pyplot as plt\n",
        "\n",
        "# visualization\n",
        "import seaborn as sns\n",
        "\n",
        "# Importing the dataset\n",
        "dataset = pd.read_csv('electronics.csv')\n",
        "\n",
        "# list of first five rows\n",
        "dataset.head()"
      ]
    },
    {
      "cell_type": "code",
      "source": [
        "# list of last five rows\n",
        "dataset.tail()"
      ],
      "metadata": {
        "colab": {
          "base_uri": "https://localhost:8080/",
          "height": 206
        },
        "id": "gikH24ALMYSI",
        "outputId": "88a2ad72-8e69-44b8-e4e4-b717ca2ee89f"
      },
      "execution_count": null,
      "outputs": [
        {
          "output_type": "execute_result",
          "data": {
            "text/plain": [
              "         item_id  user_id  rating   timestamp model_attr  \\\n",
              "1292949     9478  1157628     1.0  2018-09-26     Female   \n",
              "1292950     9435  1157629     5.0  2018-09-26     Female   \n",
              "1292951     9305  1157630     3.0  2018-09-26     Female   \n",
              "1292952     9303  1157631     5.0  2018-09-29       Male   \n",
              "1292953     9478  1157632     1.0  2018-10-01     Female   \n",
              "\n",
              "                        category       brand  year user_attr  split  \n",
              "1292949               Headphones  Etre Jeune  2017       NaN      0  \n",
              "1292950  Computers & Accessories         NaN  2017       NaN      0  \n",
              "1292951  Computers & Accessories         NaN  2016       NaN      0  \n",
              "1292952               Headphones         NaN  2018       NaN      0  \n",
              "1292953               Headphones  Etre Jeune  2017    Female      0  "
            ],
            "text/html": [
              "\n",
              "  <div id=\"df-72b886e7-3a64-4351-9637-2861958589ab\">\n",
              "    <div class=\"colab-df-container\">\n",
              "      <div>\n",
              "<style scoped>\n",
              "    .dataframe tbody tr th:only-of-type {\n",
              "        vertical-align: middle;\n",
              "    }\n",
              "\n",
              "    .dataframe tbody tr th {\n",
              "        vertical-align: top;\n",
              "    }\n",
              "\n",
              "    .dataframe thead th {\n",
              "        text-align: right;\n",
              "    }\n",
              "</style>\n",
              "<table border=\"1\" class=\"dataframe\">\n",
              "  <thead>\n",
              "    <tr style=\"text-align: right;\">\n",
              "      <th></th>\n",
              "      <th>item_id</th>\n",
              "      <th>user_id</th>\n",
              "      <th>rating</th>\n",
              "      <th>timestamp</th>\n",
              "      <th>model_attr</th>\n",
              "      <th>category</th>\n",
              "      <th>brand</th>\n",
              "      <th>year</th>\n",
              "      <th>user_attr</th>\n",
              "      <th>split</th>\n",
              "    </tr>\n",
              "  </thead>\n",
              "  <tbody>\n",
              "    <tr>\n",
              "      <th>1292949</th>\n",
              "      <td>9478</td>\n",
              "      <td>1157628</td>\n",
              "      <td>1.0</td>\n",
              "      <td>2018-09-26</td>\n",
              "      <td>Female</td>\n",
              "      <td>Headphones</td>\n",
              "      <td>Etre Jeune</td>\n",
              "      <td>2017</td>\n",
              "      <td>NaN</td>\n",
              "      <td>0</td>\n",
              "    </tr>\n",
              "    <tr>\n",
              "      <th>1292950</th>\n",
              "      <td>9435</td>\n",
              "      <td>1157629</td>\n",
              "      <td>5.0</td>\n",
              "      <td>2018-09-26</td>\n",
              "      <td>Female</td>\n",
              "      <td>Computers &amp; Accessories</td>\n",
              "      <td>NaN</td>\n",
              "      <td>2017</td>\n",
              "      <td>NaN</td>\n",
              "      <td>0</td>\n",
              "    </tr>\n",
              "    <tr>\n",
              "      <th>1292951</th>\n",
              "      <td>9305</td>\n",
              "      <td>1157630</td>\n",
              "      <td>3.0</td>\n",
              "      <td>2018-09-26</td>\n",
              "      <td>Female</td>\n",
              "      <td>Computers &amp; Accessories</td>\n",
              "      <td>NaN</td>\n",
              "      <td>2016</td>\n",
              "      <td>NaN</td>\n",
              "      <td>0</td>\n",
              "    </tr>\n",
              "    <tr>\n",
              "      <th>1292952</th>\n",
              "      <td>9303</td>\n",
              "      <td>1157631</td>\n",
              "      <td>5.0</td>\n",
              "      <td>2018-09-29</td>\n",
              "      <td>Male</td>\n",
              "      <td>Headphones</td>\n",
              "      <td>NaN</td>\n",
              "      <td>2018</td>\n",
              "      <td>NaN</td>\n",
              "      <td>0</td>\n",
              "    </tr>\n",
              "    <tr>\n",
              "      <th>1292953</th>\n",
              "      <td>9478</td>\n",
              "      <td>1157632</td>\n",
              "      <td>1.0</td>\n",
              "      <td>2018-10-01</td>\n",
              "      <td>Female</td>\n",
              "      <td>Headphones</td>\n",
              "      <td>Etre Jeune</td>\n",
              "      <td>2017</td>\n",
              "      <td>Female</td>\n",
              "      <td>0</td>\n",
              "    </tr>\n",
              "  </tbody>\n",
              "</table>\n",
              "</div>\n",
              "      <button class=\"colab-df-convert\" onclick=\"convertToInteractive('df-72b886e7-3a64-4351-9637-2861958589ab')\"\n",
              "              title=\"Convert this dataframe to an interactive table.\"\n",
              "              style=\"display:none;\">\n",
              "        \n",
              "  <svg xmlns=\"http://www.w3.org/2000/svg\" height=\"24px\"viewBox=\"0 0 24 24\"\n",
              "       width=\"24px\">\n",
              "    <path d=\"M0 0h24v24H0V0z\" fill=\"none\"/>\n",
              "    <path d=\"M18.56 5.44l.94 2.06.94-2.06 2.06-.94-2.06-.94-.94-2.06-.94 2.06-2.06.94zm-11 1L8.5 8.5l.94-2.06 2.06-.94-2.06-.94L8.5 2.5l-.94 2.06-2.06.94zm10 10l.94 2.06.94-2.06 2.06-.94-2.06-.94-.94-2.06-.94 2.06-2.06.94z\"/><path d=\"M17.41 7.96l-1.37-1.37c-.4-.4-.92-.59-1.43-.59-.52 0-1.04.2-1.43.59L10.3 9.45l-7.72 7.72c-.78.78-.78 2.05 0 2.83L4 21.41c.39.39.9.59 1.41.59.51 0 1.02-.2 1.41-.59l7.78-7.78 2.81-2.81c.8-.78.8-2.07 0-2.86zM5.41 20L4 18.59l7.72-7.72 1.47 1.35L5.41 20z\"/>\n",
              "  </svg>\n",
              "      </button>\n",
              "      \n",
              "  <style>\n",
              "    .colab-df-container {\n",
              "      display:flex;\n",
              "      flex-wrap:wrap;\n",
              "      gap: 12px;\n",
              "    }\n",
              "\n",
              "    .colab-df-convert {\n",
              "      background-color: #E8F0FE;\n",
              "      border: none;\n",
              "      border-radius: 50%;\n",
              "      cursor: pointer;\n",
              "      display: none;\n",
              "      fill: #1967D2;\n",
              "      height: 32px;\n",
              "      padding: 0 0 0 0;\n",
              "      width: 32px;\n",
              "    }\n",
              "\n",
              "    .colab-df-convert:hover {\n",
              "      background-color: #E2EBFA;\n",
              "      box-shadow: 0px 1px 2px rgba(60, 64, 67, 0.3), 0px 1px 3px 1px rgba(60, 64, 67, 0.15);\n",
              "      fill: #174EA6;\n",
              "    }\n",
              "\n",
              "    [theme=dark] .colab-df-convert {\n",
              "      background-color: #3B4455;\n",
              "      fill: #D2E3FC;\n",
              "    }\n",
              "\n",
              "    [theme=dark] .colab-df-convert:hover {\n",
              "      background-color: #434B5C;\n",
              "      box-shadow: 0px 1px 3px 1px rgba(0, 0, 0, 0.15);\n",
              "      filter: drop-shadow(0px 1px 2px rgba(0, 0, 0, 0.3));\n",
              "      fill: #FFFFFF;\n",
              "    }\n",
              "  </style>\n",
              "\n",
              "      <script>\n",
              "        const buttonEl =\n",
              "          document.querySelector('#df-72b886e7-3a64-4351-9637-2861958589ab button.colab-df-convert');\n",
              "        buttonEl.style.display =\n",
              "          google.colab.kernel.accessAllowed ? 'block' : 'none';\n",
              "\n",
              "        async function convertToInteractive(key) {\n",
              "          const element = document.querySelector('#df-72b886e7-3a64-4351-9637-2861958589ab');\n",
              "          const dataTable =\n",
              "            await google.colab.kernel.invokeFunction('convertToInteractive',\n",
              "                                                     [key], {});\n",
              "          if (!dataTable) return;\n",
              "\n",
              "          const docLinkHtml = 'Like what you see? Visit the ' +\n",
              "            '<a target=\"_blank\" href=https://colab.research.google.com/notebooks/data_table.ipynb>data table notebook</a>'\n",
              "            + ' to learn more about interactive tables.';\n",
              "          element.innerHTML = '';\n",
              "          dataTable['output_type'] = 'display_data';\n",
              "          await google.colab.output.renderOutput(dataTable, element);\n",
              "          const docLink = document.createElement('div');\n",
              "          docLink.innerHTML = docLinkHtml;\n",
              "          element.appendChild(docLink);\n",
              "        }\n",
              "      </script>\n",
              "    </div>\n",
              "  </div>\n",
              "  "
            ]
          },
          "metadata": {},
          "execution_count": 4
        }
      ]
    },
    {
      "cell_type": "code",
      "source": [
        "# shape\n",
        "dataset.shape"
      ],
      "metadata": {
        "colab": {
          "base_uri": "https://localhost:8080/"
        },
        "id": "OTV5Q6L6Mbt7",
        "outputId": "e3664cf3-8bb5-4344-cb48-4c51ca54c18a"
      },
      "execution_count": null,
      "outputs": [
        {
          "output_type": "execute_result",
          "data": {
            "text/plain": [
              "(1292954, 10)"
            ]
          },
          "metadata": {},
          "execution_count": 5
        }
      ]
    },
    {
      "cell_type": "markdown",
      "source": [
        "Check the columns and their corresponding data types, along with finding whether they contain null values or not."
      ],
      "metadata": {
        "id": "_0VHofGsMlPF"
      }
    },
    {
      "cell_type": "code",
      "source": [
        "dataset.info()"
      ],
      "metadata": {
        "colab": {
          "base_uri": "https://localhost:8080/"
        },
        "id": "8hOt-FfNMeiV",
        "outputId": "1b22adf1-6612-4afc-b45f-1b4fc6e2dc10"
      },
      "execution_count": null,
      "outputs": [
        {
          "output_type": "stream",
          "name": "stdout",
          "text": [
            "<class 'pandas.core.frame.DataFrame'>\n",
            "RangeIndex: 1292954 entries, 0 to 1292953\n",
            "Data columns (total 10 columns):\n",
            " #   Column      Non-Null Count    Dtype  \n",
            "---  ------      --------------    -----  \n",
            " 0   item_id     1292954 non-null  int64  \n",
            " 1   user_id     1292954 non-null  int64  \n",
            " 2   rating      1292954 non-null  float64\n",
            " 3   timestamp   1292954 non-null  object \n",
            " 4   model_attr  1292954 non-null  object \n",
            " 5   category    1292954 non-null  object \n",
            " 6   brand       331120 non-null   object \n",
            " 7   year        1292954 non-null  int64  \n",
            " 8   user_attr   174124 non-null   object \n",
            " 9   split       1292954 non-null  int64  \n",
            "dtypes: float64(1), int64(4), object(5)\n",
            "memory usage: 98.6+ MB\n"
          ]
        }
      ]
    },
    {
      "cell_type": "markdown",
      "source": [
        "\n",
        "We can see that the dataset contains 10 columns and 1292954 rows.    \n",
        "\n",
        "The columns and data types are as follows:\n",
        "1. Item ID - int64\n",
        "2. User ID - int64\n",
        "3. Rating - float64\n",
        "4. Timestamp - object\n",
        "5. Model Attribute - object\n",
        "6. Category - object\n",
        "7. Brand - object\n",
        "8. Year - int64\n",
        "9. User Attribute - object\n",
        "10. Split - int64\n",
        "\n"
      ],
      "metadata": {
        "id": "5vv0XvKSMsyB"
      }
    },
    {
      "cell_type": "code",
      "source": [
        "# Converting the column timestamp to datetime\n",
        "from datetime import datetime\n",
        "\n",
        "pd.to_datetime(dataset['timestamp'])"
      ],
      "metadata": {
        "id": "2hujGgauMse1",
        "colab": {
          "base_uri": "https://localhost:8080/"
        },
        "outputId": "028f50af-e612-471a-8f5c-ac3606208110"
      },
      "execution_count": null,
      "outputs": [
        {
          "output_type": "execute_result",
          "data": {
            "text/plain": [
              "0         1999-06-13\n",
              "1         1999-06-14\n",
              "2         1999-06-17\n",
              "3         1999-07-01\n",
              "4         1999-07-06\n",
              "             ...    \n",
              "1292949   2018-09-26\n",
              "1292950   2018-09-26\n",
              "1292951   2018-09-26\n",
              "1292952   2018-09-29\n",
              "1292953   2018-10-01\n",
              "Name: timestamp, Length: 1292954, dtype: datetime64[ns]"
            ]
          },
          "metadata": {},
          "execution_count": 7
        }
      ]
    },
    {
      "cell_type": "code",
      "source": [
        "dataset['category'] = dataset['category'].astype(str)\n",
        "dataset['rating'] = dataset['rating'].astype(float)\n",
        "dataset['user_id'] = dataset['user_id'].astype(str)\n",
        "dataset['item_id'] = dataset['item_id'].astype(str)\n"
      ],
      "metadata": {
        "id": "DcdbgEgym3EB"
      },
      "execution_count": null,
      "outputs": []
    },
    {
      "cell_type": "code",
      "source": [
        "# Get the statistical summary of the dataset.\n",
        "\n",
        "dataset.describe()"
      ],
      "metadata": {
        "id": "G3JNxAWePCOJ",
        "colab": {
          "base_uri": "https://localhost:8080/",
          "height": 300
        },
        "outputId": "979fa5f3-bf9b-4b62-93a4-404b06124a97"
      },
      "execution_count": null,
      "outputs": [
        {
          "output_type": "execute_result",
          "data": {
            "text/plain": [
              "             rating          year         split\n",
              "count  1.292954e+06  1.292954e+06  1.292954e+06\n",
              "mean   4.051482e+00  2.012938e+03  1.747587e-01\n",
              "std    1.379732e+00  2.643513e+00  5.506810e-01\n",
              "min    1.000000e+00  1.999000e+03  0.000000e+00\n",
              "25%    4.000000e+00  2.012000e+03  0.000000e+00\n",
              "50%    5.000000e+00  2.014000e+03  0.000000e+00\n",
              "75%    5.000000e+00  2.015000e+03  0.000000e+00\n",
              "max    5.000000e+00  2.018000e+03  2.000000e+00"
            ],
            "text/html": [
              "\n",
              "  <div id=\"df-4d0ede0a-2232-4ec9-b961-ea467bc2ff28\">\n",
              "    <div class=\"colab-df-container\">\n",
              "      <div>\n",
              "<style scoped>\n",
              "    .dataframe tbody tr th:only-of-type {\n",
              "        vertical-align: middle;\n",
              "    }\n",
              "\n",
              "    .dataframe tbody tr th {\n",
              "        vertical-align: top;\n",
              "    }\n",
              "\n",
              "    .dataframe thead th {\n",
              "        text-align: right;\n",
              "    }\n",
              "</style>\n",
              "<table border=\"1\" class=\"dataframe\">\n",
              "  <thead>\n",
              "    <tr style=\"text-align: right;\">\n",
              "      <th></th>\n",
              "      <th>rating</th>\n",
              "      <th>year</th>\n",
              "      <th>split</th>\n",
              "    </tr>\n",
              "  </thead>\n",
              "  <tbody>\n",
              "    <tr>\n",
              "      <th>count</th>\n",
              "      <td>1.292954e+06</td>\n",
              "      <td>1.292954e+06</td>\n",
              "      <td>1.292954e+06</td>\n",
              "    </tr>\n",
              "    <tr>\n",
              "      <th>mean</th>\n",
              "      <td>4.051482e+00</td>\n",
              "      <td>2.012938e+03</td>\n",
              "      <td>1.747587e-01</td>\n",
              "    </tr>\n",
              "    <tr>\n",
              "      <th>std</th>\n",
              "      <td>1.379732e+00</td>\n",
              "      <td>2.643513e+00</td>\n",
              "      <td>5.506810e-01</td>\n",
              "    </tr>\n",
              "    <tr>\n",
              "      <th>min</th>\n",
              "      <td>1.000000e+00</td>\n",
              "      <td>1.999000e+03</td>\n",
              "      <td>0.000000e+00</td>\n",
              "    </tr>\n",
              "    <tr>\n",
              "      <th>25%</th>\n",
              "      <td>4.000000e+00</td>\n",
              "      <td>2.012000e+03</td>\n",
              "      <td>0.000000e+00</td>\n",
              "    </tr>\n",
              "    <tr>\n",
              "      <th>50%</th>\n",
              "      <td>5.000000e+00</td>\n",
              "      <td>2.014000e+03</td>\n",
              "      <td>0.000000e+00</td>\n",
              "    </tr>\n",
              "    <tr>\n",
              "      <th>75%</th>\n",
              "      <td>5.000000e+00</td>\n",
              "      <td>2.015000e+03</td>\n",
              "      <td>0.000000e+00</td>\n",
              "    </tr>\n",
              "    <tr>\n",
              "      <th>max</th>\n",
              "      <td>5.000000e+00</td>\n",
              "      <td>2.018000e+03</td>\n",
              "      <td>2.000000e+00</td>\n",
              "    </tr>\n",
              "  </tbody>\n",
              "</table>\n",
              "</div>\n",
              "      <button class=\"colab-df-convert\" onclick=\"convertToInteractive('df-4d0ede0a-2232-4ec9-b961-ea467bc2ff28')\"\n",
              "              title=\"Convert this dataframe to an interactive table.\"\n",
              "              style=\"display:none;\">\n",
              "        \n",
              "  <svg xmlns=\"http://www.w3.org/2000/svg\" height=\"24px\"viewBox=\"0 0 24 24\"\n",
              "       width=\"24px\">\n",
              "    <path d=\"M0 0h24v24H0V0z\" fill=\"none\"/>\n",
              "    <path d=\"M18.56 5.44l.94 2.06.94-2.06 2.06-.94-2.06-.94-.94-2.06-.94 2.06-2.06.94zm-11 1L8.5 8.5l.94-2.06 2.06-.94-2.06-.94L8.5 2.5l-.94 2.06-2.06.94zm10 10l.94 2.06.94-2.06 2.06-.94-2.06-.94-.94-2.06-.94 2.06-2.06.94z\"/><path d=\"M17.41 7.96l-1.37-1.37c-.4-.4-.92-.59-1.43-.59-.52 0-1.04.2-1.43.59L10.3 9.45l-7.72 7.72c-.78.78-.78 2.05 0 2.83L4 21.41c.39.39.9.59 1.41.59.51 0 1.02-.2 1.41-.59l7.78-7.78 2.81-2.81c.8-.78.8-2.07 0-2.86zM5.41 20L4 18.59l7.72-7.72 1.47 1.35L5.41 20z\"/>\n",
              "  </svg>\n",
              "      </button>\n",
              "      \n",
              "  <style>\n",
              "    .colab-df-container {\n",
              "      display:flex;\n",
              "      flex-wrap:wrap;\n",
              "      gap: 12px;\n",
              "    }\n",
              "\n",
              "    .colab-df-convert {\n",
              "      background-color: #E8F0FE;\n",
              "      border: none;\n",
              "      border-radius: 50%;\n",
              "      cursor: pointer;\n",
              "      display: none;\n",
              "      fill: #1967D2;\n",
              "      height: 32px;\n",
              "      padding: 0 0 0 0;\n",
              "      width: 32px;\n",
              "    }\n",
              "\n",
              "    .colab-df-convert:hover {\n",
              "      background-color: #E2EBFA;\n",
              "      box-shadow: 0px 1px 2px rgba(60, 64, 67, 0.3), 0px 1px 3px 1px rgba(60, 64, 67, 0.15);\n",
              "      fill: #174EA6;\n",
              "    }\n",
              "\n",
              "    [theme=dark] .colab-df-convert {\n",
              "      background-color: #3B4455;\n",
              "      fill: #D2E3FC;\n",
              "    }\n",
              "\n",
              "    [theme=dark] .colab-df-convert:hover {\n",
              "      background-color: #434B5C;\n",
              "      box-shadow: 0px 1px 3px 1px rgba(0, 0, 0, 0.15);\n",
              "      filter: drop-shadow(0px 1px 2px rgba(0, 0, 0, 0.3));\n",
              "      fill: #FFFFFF;\n",
              "    }\n",
              "  </style>\n",
              "\n",
              "      <script>\n",
              "        const buttonEl =\n",
              "          document.querySelector('#df-4d0ede0a-2232-4ec9-b961-ea467bc2ff28 button.colab-df-convert');\n",
              "        buttonEl.style.display =\n",
              "          google.colab.kernel.accessAllowed ? 'block' : 'none';\n",
              "\n",
              "        async function convertToInteractive(key) {\n",
              "          const element = document.querySelector('#df-4d0ede0a-2232-4ec9-b961-ea467bc2ff28');\n",
              "          const dataTable =\n",
              "            await google.colab.kernel.invokeFunction('convertToInteractive',\n",
              "                                                     [key], {});\n",
              "          if (!dataTable) return;\n",
              "\n",
              "          const docLinkHtml = 'Like what you see? Visit the ' +\n",
              "            '<a target=\"_blank\" href=https://colab.research.google.com/notebooks/data_table.ipynb>data table notebook</a>'\n",
              "            + ' to learn more about interactive tables.';\n",
              "          element.innerHTML = '';\n",
              "          dataTable['output_type'] = 'display_data';\n",
              "          await google.colab.output.renderOutput(dataTable, element);\n",
              "          const docLink = document.createElement('div');\n",
              "          docLink.innerHTML = docLinkHtml;\n",
              "          element.appendChild(docLink);\n",
              "        }\n",
              "      </script>\n",
              "    </div>\n",
              "  </div>\n",
              "  "
            ]
          },
          "metadata": {},
          "execution_count": 9
        }
      ]
    },
    {
      "cell_type": "markdown",
      "source": [
        "the statistical summary of the dataset gives us the following information:\n",
        "\n",
        "1. The mean rating is 4.\n",
        "2. The minimum rating is 1.\n",
        "3. The maximum rating is 5.\n",
        "4. The standard deviation of the ratings is 1.4.\n",
        "5. The 25th percentile of the ratings is 4.\n",
        "6. The 50th percentile of the ratings is 5.\n",
        "7. The 75th percentile of the ratings is 5."
      ],
      "metadata": {
        "id": "yUfnnlkHPHVP"
      }
    },
    {
      "cell_type": "code",
      "source": [
        "# Check the number of unique values or items in the dataset in every column\n",
        "dataset.nunique()"
      ],
      "metadata": {
        "id": "UiFnA-65PEMD",
        "colab": {
          "base_uri": "https://localhost:8080/"
        },
        "outputId": "f9f9c74f-1372-4ede-8397-8ebd364a2fae"
      },
      "execution_count": null,
      "outputs": [
        {
          "output_type": "execute_result",
          "data": {
            "text/plain": [
              "item_id          9560\n",
              "user_id       1157633\n",
              "rating              5\n",
              "timestamp        6354\n",
              "model_attr          3\n",
              "category           10\n",
              "brand              50\n",
              "year               20\n",
              "user_attr           2\n",
              "split               3\n",
              "dtype: int64"
            ]
          },
          "metadata": {},
          "execution_count": 10
        }
      ]
    },
    {
      "cell_type": "code",
      "source": [
        "type(dataset.rating)"
      ],
      "metadata": {
        "colab": {
          "base_uri": "https://localhost:8080/"
        },
        "id": "1127drWjjmRy",
        "outputId": "ce28105e-5084-4204-9716-c7c8d7fe292a"
      },
      "execution_count": null,
      "outputs": [
        {
          "output_type": "execute_result",
          "data": {
            "text/plain": [
              "pandas.core.series.Series"
            ]
          },
          "metadata": {},
          "execution_count": 11
        }
      ]
    },
    {
      "cell_type": "code",
      "source": [
        "# dataset.brand.dropna(inplace=True)\n",
        "# dataset.brand.drop_duplicates(inplace=True)"
      ],
      "metadata": {
        "id": "HDgP86qYjQZC"
      },
      "execution_count": null,
      "outputs": []
    },
    {
      "cell_type": "code",
      "source": [
        "# Drop Nan values and dublicates in the dataset\n",
        "dataset.dropna(inplace=True)\n",
        "dataset.drop_duplicates(inplace=True)"
      ],
      "metadata": {
        "id": "ptRLG_elUJrA"
      },
      "execution_count": null,
      "outputs": []
    },
    {
      "cell_type": "code",
      "source": [
        "# check for duplicates\n",
        "dataset.duplicated().sum()"
      ],
      "metadata": {
        "colab": {
          "base_uri": "https://localhost:8080/"
        },
        "id": "OVwNmmqdUXDO",
        "outputId": "6c4d54e6-18a0-4edb-e844-f720a266079c"
      },
      "execution_count": null,
      "outputs": [
        {
          "output_type": "execute_result",
          "data": {
            "text/plain": [
              "0"
            ]
          },
          "metadata": {},
          "execution_count": 14
        }
      ]
    },
    {
      "cell_type": "code",
      "source": [
        "# check for missing values\n",
        "dataset.isnull().sum()"
      ],
      "metadata": {
        "colab": {
          "base_uri": "https://localhost:8080/"
        },
        "id": "ss6sBCkCUub9",
        "outputId": "2dc9490b-cad5-4fdc-934a-0d4ff0d8d5a8"
      },
      "execution_count": null,
      "outputs": [
        {
          "output_type": "execute_result",
          "data": {
            "text/plain": [
              "item_id       0\n",
              "user_id       0\n",
              "rating        0\n",
              "timestamp     0\n",
              "model_attr    0\n",
              "category      0\n",
              "brand         0\n",
              "year          0\n",
              "user_attr     0\n",
              "split         0\n",
              "dtype: int64"
            ]
          },
          "metadata": {},
          "execution_count": 15
        }
      ]
    },
    {
      "cell_type": "markdown",
      "source": [
        "# Find answers within the dataset"
      ],
      "metadata": {
        "id": "-5r3blHyhlTS"
      }
    },
    {
      "cell_type": "markdown",
      "source": [
        "Which ratings has most chosen?"
      ],
      "metadata": {
        "id": "l8qr3wqke6SP"
      }
    },
    {
      "cell_type": "code",
      "source": [
        "dataset[\"rating\"].value_counts().sort_index().plot(kind=\"bar\")"
      ],
      "metadata": {
        "colab": {
          "base_uri": "https://localhost:8080/",
          "height": 457
        },
        "id": "hybr0dTQznyC",
        "outputId": "e3a71ef5-e248-4e58-b4fc-85c3fcd0882b"
      },
      "execution_count": null,
      "outputs": [
        {
          "output_type": "execute_result",
          "data": {
            "text/plain": [
              "<Axes: >"
            ]
          },
          "metadata": {},
          "execution_count": 49
        },
        {
          "output_type": "display_data",
          "data": {
            "text/plain": [
              "<Figure size 640x480 with 1 Axes>"
            ],
            "image/png": "[encoded data removed]"
          },
          "metadata": {}
        }
      ]
    },
    {
      "cell_type": "markdown",
      "source": [
        "What was the best year of sales?"
      ],
      "metadata": {
        "id": "4Thw8bCuhvrW"
      }
    },
    {
      "cell_type": "code",
      "source": [
        "dataset['year'] = pd.DatetimeIndex(dataset['timestamp']).year\n",
        "\n",
        "dataset[\"year\"].value_counts().sort_index().plot(kind=\"bar\")"
      ],
      "metadata": {
        "colab": {
          "base_uri": "https://localhost:8080/",
          "height": 470
        },
        "id": "6AWTzuwWzZsU",
        "outputId": "0bc3e268-b9bb-4b17-ce8e-bf5f9b767102"
      },
      "execution_count": null,
      "outputs": [
        {
          "output_type": "execute_result",
          "data": {
            "text/plain": [
              "<Axes: >"
            ]
          },
          "metadata": {},
          "execution_count": 46
        },
        {
          "output_type": "display_data",
          "data": {
            "text/plain": [
              "<Figure size 640x480 with 1 Axes>"
            ],
            "image/png": "[encoded data removed]"
          },
          "metadata": {}
        }
      ]
    },
    {
      "cell_type": "markdown",
      "source": [
        "We can see that the year 2015 had the best sales."
      ],
      "metadata": {
        "id": "VtDW8Xrbpnyl"
      }
    },
    {
      "cell_type": "markdown",
      "source": [
        "What brand sold the most in 2015?"
      ],
      "metadata": {
        "id": "TCwxkmIxh8gT"
      }
    },
    {
      "cell_type": "code",
      "source": [
        "dataset_2015 = dataset[dataset['year'] == 2015]\n",
        "\n",
        "dataset_2015[\"brand\"].value_counts().sort_values(ascending=False).head(10).plot(kind=\"bar\")"
      ],
      "metadata": {
        "colab": {
          "base_uri": "https://localhost:8080/",
          "height": 506
        },
        "id": "kWPBAJEfzBpu",
        "outputId": "96a42761-b5ec-4eb1-d682-c42c53bdfdb7"
      },
      "execution_count": null,
      "outputs": [
        {
          "output_type": "execute_result",
          "data": {
            "text/plain": [
              "<Axes: >"
            ]
          },
          "metadata": {},
          "execution_count": 43
        },
        {
          "output_type": "display_data",
          "data": {
            "text/plain": [
              "<Figure size 640x480 with 1 Axes>"
            ],
            "image/png": "[encoded data removed]"
          },
          "metadata": {}
        }
      ]
    },
    {
      "cell_type": "code",
      "source": [
        "# what was the best month of sales"
      ],
      "metadata": {
        "id": "sUGcXrqXprdW"
      },
      "execution_count": null,
      "outputs": []
    },
    {
      "cell_type": "code",
      "source": [
        "dataset['month'] = pd.DatetimeIndex(dataset['timestamp']).month\n",
        "\n",
        "dataset[\"month\"].value_counts().sort_index().plot(kind=\"bar\")"
      ],
      "metadata": {
        "colab": {
          "base_uri": "https://localhost:8080/",
          "height": 453
        },
        "id": "NZd9JWLCxKy4",
        "outputId": "031129ee-fcc7-4b85-8e87-aba86cfad2dc"
      },
      "execution_count": null,
      "outputs": [
        {
          "output_type": "execute_result",
          "data": {
            "text/plain": [
              "<Axes: >"
            ]
          },
          "metadata": {},
          "execution_count": 41
        },
        {
          "output_type": "display_data",
          "data": {
            "text/plain": [
              "<Figure size 640x480 with 1 Axes>"
            ],
            "image/png": "[encoded data removed]"
          },
          "metadata": {}
        }
      ]
    },
    {
      "cell_type": "markdown",
      "source": [
        "The month of January had the best sales.\n"
      ],
      "metadata": {
        "id": "XmJsFCfzpwjS"
      }
    },
    {
      "cell_type": "markdown",
      "source": [
        "What product by brand name sold the most?"
      ],
      "metadata": {
        "id": "_mtJVdIVp6ao"
      }
    },
    {
      "cell_type": "code",
      "source": [
        "dataset[\"brand\"].value_counts().sort_values(ascending=False).head(10).plot(kind=\"bar\")"
      ],
      "metadata": {
        "colab": {
          "base_uri": "https://localhost:8080/",
          "height": 512
        },
        "id": "2eSPjaddw9x-",
        "outputId": "582f559c-54a4-4f82-f03a-399529db568e"
      },
      "execution_count": null,
      "outputs": [
        {
          "output_type": "execute_result",
          "data": {
            "text/plain": [
              "<Axes: >"
            ]
          },
          "metadata": {},
          "execution_count": 34
        },
        {
          "output_type": "display_data",
          "data": {
            "text/plain": [
              "<Figure size 640x480 with 1 Axes>"
            ],
            "image/png": "[encoded data removed]"
          },
          "metadata": {}
        }
      ]
    },
    {
      "cell_type": "markdown",
      "source": [
        "We can see that the brand name of Bose sold the most followed closely with Logitech."
      ],
      "metadata": {
        "id": "KD4OMGa_p8-5"
      }
    },
    {
      "cell_type": "markdown",
      "source": [
        "What product by category sold the most?"
      ],
      "metadata": {
        "id": "1hInr8R3qICm"
      }
    },
    {
      "cell_type": "code",
      "source": [
        "dataset[\"category\"].value_counts().sort_values(ascending=False).plot(kind=\"bar\")"
      ],
      "metadata": {
        "colab": {
          "base_uri": "https://localhost:8080/",
          "height": 612
        },
        "id": "tOAsa9hfpvnm",
        "outputId": "4714f955-d7c0-43d2-9b45-70be60375c2d"
      },
      "execution_count": null,
      "outputs": [
        {
          "output_type": "execute_result",
          "data": {
            "text/plain": [
              "<Axes: >"
            ]
          },
          "metadata": {},
          "execution_count": 31
        },
        {
          "output_type": "display_data",
          "data": {
            "text/plain": [
              "<Figure size 640x480 with 1 Axes>"
            ],
            "image/png": "[encoded data removed]"
          },
          "metadata": {}
        }
      ]
    },
    {
      "cell_type": "markdown",
      "source": [
        "1. We can see that the category of Headphones sold the most.\n",
        "2. Computers and accesories were sold the second most\n",
        "3. Camera & photo sold the third most followed by Accesories and supplies.\n",
        "4. The least sold category was Security and Surveillance."
      ],
      "metadata": {
        "id": "rl5p19vfqLSB"
      }
    },
    {
      "cell_type": "markdown",
      "source": [
        "Category percentage sales"
      ],
      "metadata": {
        "id": "SAybMAelq4rW"
      }
    },
    {
      "cell_type": "code",
      "source": [
        "dataset[\"category\"].value_counts().head(7).plot(kind=\"pie\")"
      ],
      "metadata": {
        "colab": {
          "base_uri": "https://localhost:8080/",
          "height": 425
        },
        "id": "KjxCwA_-tVrW",
        "outputId": "c8f778c4-69fc-4cb8-a2e5-00f6700ae406"
      },
      "execution_count": null,
      "outputs": [
        {
          "output_type": "execute_result",
          "data": {
            "text/plain": [
              "<Axes: ylabel='category'>"
            ]
          },
          "metadata": {},
          "execution_count": 30
        },
        {
          "output_type": "display_data",
          "data": {
            "text/plain": [
              "<Figure size 640x480 with 1 Axes>"
            ],
            "image/png": "[encoded data removed]"
          },
          "metadata": {}
        }
      ]
    },
    {
      "cell_type": "markdown",
      "source": [
        "Brand percentage sales"
      ],
      "metadata": {
        "id": "Nw5Oaol4rjy8"
      }
    },
    {
      "cell_type": "code",
      "source": [
        "dataset[\"brand\"].value_counts().head(10).plot(kind=\"pie\")"
      ],
      "metadata": {
        "colab": {
          "base_uri": "https://localhost:8080/",
          "height": 425
        },
        "id": "6XELZHhLtjS5",
        "outputId": "5ccf7f2a-95d3-43a2-9dc2-8e0f59857a3d"
      },
      "execution_count": null,
      "outputs": [
        {
          "output_type": "execute_result",
          "data": {
            "text/plain": [
              "<Axes: ylabel='brand'>"
            ]
          },
          "metadata": {},
          "execution_count": 28
        },
        {
          "output_type": "display_data",
          "data": {
            "text/plain": [
              "<Figure size 640x480 with 1 Axes>"
            ],
            "image/png": "[encoded data removed]"
          },
          "metadata": {}
        }
      ]
    },
    {
      "cell_type": "markdown",
      "source": [
        "# conclusion of our analysis\n",
        "\n",
        "1. We can see that the year 2015 had the best sales.\n",
        "2. The month of January had the best sales.\n",
        "3. We can see that the brands Bose and Logitech sold the most\n",
        "4. We can see that the category of Headphones sold the most.\n",
        "5. We can see that the brand name of EINCAR sold the least followed closely with DURAGADGET.\n",
        "6. We can see that the category of Security and Surveillance sold the least."
      ],
      "metadata": {
        "id": "fgewI5Rdrq3a"
      }
    },
    {
      "cell_type": "code",
      "source": [],
      "metadata": {
        "id": "sex_h13nrfjI"
      },
      "execution_count": null,
      "outputs": []
    }
  ]
}